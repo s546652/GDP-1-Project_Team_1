{
 "cells": [
  {
   "cell_type": "code",
   "execution_count": null,
   "id": "1edcfce0",
   "metadata": {},
   "outputs": [],
   "source": [
    "d={\"name\":[],\"date\":[],\"description\":[]}\n",
    "a=\"\";c=0\n",
    "for i in range(len(l)-1):\n",
    "    i=c\n",
    "    if i>=len(l):\n",
    "        break\n",
    "    a=l[i]\n",
    "    for j in range(i+1,len(l)-1):\n",
    "        if \"2023\" not in l[j]:\n",
    "            a+=l[j]\n",
    "        else:\n",
    "            d[\"name\"].append(a)\n",
    "            i=j\n",
    "            break\n",
    "    a=\"\"\n",
    "    if \"2023\" in l[i]:\n",
    "        a+=l[i]\n",
    "    i+=1\n",
    "    if \"2023\" in l[i]:\n",
    "        a+=l[i]\n",
    "    d[\"date\"].append(a)\n",
    "    a=\"\"\n",
    "    i+=1\n",
    "    for j in range(i,len(l)):\n",
    "        if \"Calendars:\"  not in l[j]:\n",
    "            a+=l[j]+\"\\n\"\n",
    "        else: \n",
    "            a+=l[j]\n",
    "            i=j\n",
    "            break\n",
    "    d[\"description\"].append(a)"
   ]
  },
  {
   "cell_type": "code",
   "execution_count": null,
   "id": "61193d90",
   "metadata": {},
   "outputs": [],
   "source": [
    "for i in range(len(d[\"name\"])-1):\n",
    "        for j in range(i+1,len(d[\"name\"])):\n",
    "            #print(j)\n",
    "            if i<len(d[\"name\"]) and j<len(d[\"name\"])-1:\n",
    "                if d[\"name\"][i]==d[\"name\"][j] and d[\"date\"][i]==d[\"date\"][j] and d[\"description\"][i]==d[\"description\"][j]:\n",
    "                    d[\"name\"].remove(d[\"name\"][j])\n",
    "                    d[\"date\"].remove(d[\"date\"][j])\n",
    "                    d[\"description\"].remove(d[\"description\"][j])"
   ]
  },
  {
   "cell_type": "code",
   "execution_count": null,
   "id": "a87840e5",
   "metadata": {},
   "outputs": [],
   "source": [
    "from datetime import datetime\n",
    "from threading import Timer\n",
    "\n",
    "x=datetime.today()\n",
    "y=x.replace(day=x.day+1, hour=9, minute=36, second=0, microsecond=0)\n",
    "delta_t=y-x\n",
    "\n",
    "secs=delta_t.seconds+1\n",
    "\n",
    "t = Timer(secs, func)\n",
    "t.start()"
   ]
  },
  {
   "cell_type": "code",
   "execution_count": null,
   "id": "f5df3c0a",
   "metadata": {},
   "outputs": [],
   "source": []
  },
  {
   "cell_type": "code",
   "execution_count": null,
   "id": "df46d6aa",
   "metadata": {},
   "outputs": [],
   "source": []
  },
  {
   "cell_type": "code",
   "execution_count": null,
   "id": "e1f1ba2e",
   "metadata": {},
   "outputs": [],
   "source": []
  },
  {
   "cell_type": "code",
   "execution_count": null,
   "id": "ab077f7f",
   "metadata": {},
   "outputs": [],
   "source": []
  },
  {
   "cell_type": "code",
   "execution_count": null,
   "id": "081421d2",
   "metadata": {},
   "outputs": [],
   "source": []
  },
  {
   "cell_type": "code",
   "execution_count": null,
   "id": "314dc476",
   "metadata": {},
   "outputs": [],
   "source": []
  },
  {
   "cell_type": "code",
   "execution_count": null,
   "id": "d1c383be",
   "metadata": {},
   "outputs": [],
   "source": []
  },
  {
   "cell_type": "code",
   "execution_count": null,
   "id": "26320323",
   "metadata": {},
   "outputs": [],
   "source": []
  },
  {
   "cell_type": "code",
   "execution_count": null,
   "id": "2b759907",
   "metadata": {},
   "outputs": [],
   "source": []
  },
  {
   "cell_type": "code",
   "execution_count": null,
   "id": "51322f40",
   "metadata": {},
   "outputs": [],
   "source": []
  },
  {
   "cell_type": "code",
   "execution_count": null,
   "id": "b28af98a",
   "metadata": {},
   "outputs": [],
   "source": []
  },
  {
   "cell_type": "code",
   "execution_count": null,
   "id": "d550e261",
   "metadata": {},
   "outputs": [],
   "source": []
  },
  {
   "cell_type": "code",
   "execution_count": null,
   "id": "fbb08cf7",
   "metadata": {},
   "outputs": [],
   "source": []
  },
  {
   "cell_type": "code",
   "execution_count": null,
   "id": "62f24289",
   "metadata": {},
   "outputs": [],
   "source": []
  },
  {
   "cell_type": "code",
   "execution_count": null,
   "id": "e0f9a81d",
   "metadata": {},
   "outputs": [],
   "source": []
  }
 ],
 "metadata": {
  "kernelspec": {
   "display_name": "Python 3 (ipykernel)",
   "language": "python",
   "name": "python3"
  },
  "language_info": {
   "codemirror_mode": {
    "name": "ipython",
    "version": 3
   },
   "file_extension": ".py",
   "mimetype": "text/x-python",
   "name": "python",
   "nbconvert_exporter": "python",
   "pygments_lexer": "ipython3",
   "version": "3.9.7"
  }
 },
 "nbformat": 4,
 "nbformat_minor": 5
}
