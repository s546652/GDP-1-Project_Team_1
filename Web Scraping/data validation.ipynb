{
 "cells": [
  {
   "cell_type": "code",
   "execution_count": null,
   "id": "f6701857",
   "metadata": {},
   "outputs": [],
   "source": [
    "d={\"name\":[],\"date\":[],\"description\":[]}\n",
    "a=\"\";c=0\n",
    "for i in range(len(l)-1):\n",
    "    i=c\n",
    "    if i>=len(l):\n",
    "        break\n",
    "    a=l[i]\n",
    "    for j in range(i+1,len(l)-1):\n",
    "        if \"2023\" not in l[j]:\n",
    "            a+=l[j]\n",
    "        else:\n",
    "            d[\"name\"].append(a)\n",
    "            i=j\n",
    "            break\n",
    "    a=\"\"\n",
    "    if \"2023\" in l[i]:\n",
    "        a+=l[i]\n",
    "    i+=1\n",
    "    if \"2023\" in l[i]:\n",
    "        a+=l[i]\n",
    "    d[\"date\"].append(a)\n",
    "    a=\"\"\n",
    "    i+=1\n",
    "    for j in range(i,len(l)):\n",
    "        if \"Calendars:\"  not in l[j]:\n",
    "            a+=l[j]+\"\\n\"\n",
    "        else: \n",
    "            a+=l[j]\n",
    "            i=j\n",
    "            break\n",
    "    d[\"description\"].append(a)"
   ]
  },
  {
   "cell_type": "code",
   "execution_count": null,
   "id": "10b82c14",
   "metadata": {},
   "outputs": [],
   "source": [
    "for i in range(len(d[\"name\"])-1):\n",
    "        for j in range(i+1,len(d[\"name\"])):\n",
    "            #print(j)\n",
    "            if i<len(d[\"name\"]) and j<len(d[\"name\"])-1:\n",
    "                if d[\"name\"][i]==d[\"name\"][j] and d[\"date\"][i]==d[\"date\"][j] and d[\"description\"][i]==d[\"description\"][j]:\n",
    "                    d[\"name\"].remove(d[\"name\"][j])\n",
    "                    d[\"date\"].remove(d[\"date\"][j])\n",
    "                    d[\"description\"].remove(d[\"description\"][j])"
   ]
  },
  {
   "cell_type": "code",
   "execution_count": null,
   "id": "78a558be",
   "metadata": {},
   "outputs": [],
   "source": []
  },
  {
   "cell_type": "code",
   "execution_count": null,
   "id": "c078d567",
   "metadata": {},
   "outputs": [],
   "source": []
  },
  {
   "cell_type": "code",
   "execution_count": null,
   "id": "93565cd5",
   "metadata": {},
   "outputs": [],
   "source": []
  },
  {
   "cell_type": "code",
   "execution_count": null,
   "id": "e2408a94",
   "metadata": {},
   "outputs": [],
   "source": []
  },
  {
   "cell_type": "code",
   "execution_count": null,
   "id": "fcdee2e3",
   "metadata": {},
   "outputs": [],
   "source": []
  },
  {
   "cell_type": "code",
   "execution_count": null,
   "id": "463a5c13",
   "metadata": {},
   "outputs": [],
   "source": []
  },
  {
   "cell_type": "code",
   "execution_count": null,
   "id": "3d7fbd5c",
   "metadata": {},
   "outputs": [],
   "source": []
  },
  {
   "cell_type": "code",
   "execution_count": null,
   "id": "58d7db77",
   "metadata": {},
   "outputs": [],
   "source": []
  },
  {
   "cell_type": "code",
   "execution_count": null,
   "id": "36eb3f08",
   "metadata": {},
   "outputs": [],
   "source": []
  },
  {
   "cell_type": "code",
   "execution_count": null,
   "id": "222887ee",
   "metadata": {},
   "outputs": [],
   "source": []
  },
  {
   "cell_type": "code",
   "execution_count": null,
   "id": "d45005bc",
   "metadata": {},
   "outputs": [],
   "source": []
  },
  {
   "cell_type": "code",
   "execution_count": null,
   "id": "502976aa",
   "metadata": {},
   "outputs": [],
   "source": []
  },
  {
   "cell_type": "code",
   "execution_count": null,
   "id": "7cc26158",
   "metadata": {},
   "outputs": [],
   "source": []
  },
  {
   "cell_type": "code",
   "execution_count": null,
   "id": "eba4ae7a",
   "metadata": {},
   "outputs": [],
   "source": []
  },
  {
   "cell_type": "code",
   "execution_count": null,
   "id": "ab2dc216",
   "metadata": {},
   "outputs": [],
   "source": []
  },
  {
   "cell_type": "code",
   "execution_count": null,
   "id": "ce2c9db4",
   "metadata": {},
   "outputs": [],
   "source": []
  }
 ],
 "metadata": {
  "kernelspec": {
   "display_name": "Python 3 (ipykernel)",
   "language": "python",
   "name": "python3"
  },
  "language_info": {
   "codemirror_mode": {
    "name": "ipython",
    "version": 3
   },
   "file_extension": ".py",
   "mimetype": "text/x-python",
   "name": "python",
   "nbconvert_exporter": "python",
   "pygments_lexer": "ipython3",
   "version": "3.9.7"
  }
 },
 "nbformat": 4,
 "nbformat_minor": 5
}
