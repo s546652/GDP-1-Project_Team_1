{
 "cells": [
  {
   "cell_type": "code",
   "execution_count": null,
   "id": "010791a2",
   "metadata": {},
   "outputs": [],
   "source": [
    "d={\"name\":[],\"date\":[],\"description\":[]}\n",
    "a=\"\";c=0\n",
    "for i in range(len(l)-1):\n",
    "    i=c\n",
    "    if i>=len(l):\n",
    "        break\n",
    "    a=l[i]\n",
    "    for j in range(i+1,len(l)-1):\n",
    "        if \"2023\" not in l[j]:\n",
    "            a+=l[j]\n",
    "        else:\n",
    "            d[\"name\"].append(a)\n",
    "            i=j\n",
    "            break\n",
    "    a=\"\"\n",
    "    if \"2023\" in l[i]:\n",
    "        a+=l[i]\n",
    "    i+=1\n",
    "    if \"2023\" in l[i]:\n",
    "        a+=l[i]\n",
    "    d[\"date\"].append(a)\n",
    "    a=\"\"\n",
    "    i+=1\n",
    "    for j in range(i,len(l)):\n",
    "        if \"Calendars:\"  not in l[j]:\n",
    "            a+=l[j]+\"\\n\"\n",
    "        else: \n",
    "            a+=l[j]\n",
    "            i=j\n",
    "            break\n",
    "    d[\"description\"].append(a)"
   ]
  },
  {
   "cell_type": "code",
   "execution_count": null,
   "id": "e4a0e4ae",
   "metadata": {},
   "outputs": [],
   "source": []
  },
  {
   "cell_type": "code",
   "execution_count": null,
   "id": "1f3ad47e",
   "metadata": {},
   "outputs": [],
   "source": []
  },
  {
   "cell_type": "code",
   "execution_count": null,
   "id": "de87b15b",
   "metadata": {},
   "outputs": [],
   "source": []
  },
  {
   "cell_type": "code",
   "execution_count": null,
   "id": "940e50c0",
   "metadata": {},
   "outputs": [],
   "source": []
  },
  {
   "cell_type": "code",
   "execution_count": null,
   "id": "a7274f63",
   "metadata": {},
   "outputs": [],
   "source": []
  },
  {
   "cell_type": "code",
   "execution_count": null,
   "id": "dd114b0c",
   "metadata": {},
   "outputs": [],
   "source": []
  },
  {
   "cell_type": "code",
   "execution_count": null,
   "id": "6e9daab1",
   "metadata": {},
   "outputs": [],
   "source": []
  },
  {
   "cell_type": "code",
   "execution_count": null,
   "id": "2bfcdca8",
   "metadata": {},
   "outputs": [],
   "source": []
  },
  {
   "cell_type": "code",
   "execution_count": null,
   "id": "fd6981c3",
   "metadata": {},
   "outputs": [],
   "source": []
  },
  {
   "cell_type": "code",
   "execution_count": null,
   "id": "d41453dd",
   "metadata": {},
   "outputs": [],
   "source": []
  },
  {
   "cell_type": "code",
   "execution_count": null,
   "id": "bf0878d0",
   "metadata": {},
   "outputs": [],
   "source": []
  },
  {
   "cell_type": "code",
   "execution_count": null,
   "id": "58d695a1",
   "metadata": {},
   "outputs": [],
   "source": []
  },
  {
   "cell_type": "code",
   "execution_count": null,
   "id": "ef55ed7c",
   "metadata": {},
   "outputs": [],
   "source": []
  },
  {
   "cell_type": "code",
   "execution_count": null,
   "id": "a239b0cb",
   "metadata": {},
   "outputs": [],
   "source": []
  },
  {
   "cell_type": "code",
   "execution_count": null,
   "id": "8925f31a",
   "metadata": {},
   "outputs": [],
   "source": []
  },
  {
   "cell_type": "code",
   "execution_count": null,
   "id": "dda49917",
   "metadata": {},
   "outputs": [],
   "source": []
  },
  {
   "cell_type": "code",
   "execution_count": null,
   "id": "a6cb4637",
   "metadata": {},
   "outputs": [],
   "source": []
  }
 ],
 "metadata": {
  "kernelspec": {
   "display_name": "Python 3 (ipykernel)",
   "language": "python",
   "name": "python3"
  },
  "language_info": {
   "codemirror_mode": {
    "name": "ipython",
    "version": 3
   },
   "file_extension": ".py",
   "mimetype": "text/x-python",
   "name": "python",
   "nbconvert_exporter": "python",
   "pygments_lexer": "ipython3",
   "version": "3.9.7"
  }
 },
 "nbformat": 4,
 "nbformat_minor": 5
}
