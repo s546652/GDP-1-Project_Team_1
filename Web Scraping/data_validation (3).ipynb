{
 "cells": [
  {
   "cell_type": "code",
   "execution_count": null,
   "id": "08e6097e",
   "metadata": {},
   "outputs": [],
   "source": [
    "from selenium import webdriver\n",
    "from time import sleep\n",
    "from selenium.webdriver.chrome.service import Service\n",
    "from selenium.webdriver.support.ui import WebDriverWait\n",
    "from selenium.webdriver.support import expected_conditions as EC\n",
    "from selenium.webdriver.support.select import Select\n",
    "from selenium.webdriver.common.action_chains import ActionChains\n",
    "from bs4 import BeautifulSoup\n",
    "import codecs\n",
    "import re\n",
    "from webdriver_manager.chrome import ChromeDriverManager\n",
    "from selenium.webdriver.common.by import By\n",
    "from selenium.webdriver.support import expected_conditions as EC\n",
    "from datetime import date\n",
    "import firebase_admin\n",
    "from firebase_admin import credentials, firestore"
   ]
  },
  {
   "cell_type": "code",
   "execution_count": null,
   "id": "ed6f4b55",
   "metadata": {},
   "outputs": [],
   "source": [
    "driver = webdriver.Chrome(executable_path=\"/Users/s546761/Documents/chromedriver\")\n",
    "day=date.today().day\n",
    "x=month=date.today().month\n",
    "year=date.today().year\n",
    "s=\"\""
   ]
  },
  {
   "cell_type": "code",
   "execution_count": null,
   "id": "34f13395",
   "metadata": {},
   "outputs": [],
   "source": [
    "while month<=x+1:\n",
    "    while day<=31:\n",
    "        driver.get(\"http://calendar.nwmissouri.edu/?d=\"+str(year)+\"-\"+str(month)+\"-\"+str(day))\n",
    "        sleep(2)\n",
    "        b=driver.find_elements(By.CLASS_NAME,\"event-data\")\n",
    "        c=driver.find_elements(By.CLASS_NAME,\"event-listing-name\")#.find_elements(By.TAG_NAME,\"a\")\n",
    "        l=[]\n",
    "        for y in range(len(c)):\n",
    "            c=driver.find_elements(By.CLASS_NAME,\"event-listing-name\")\n",
    "            c[y].find_element(By.TAG_NAME,\"a\").click() \n",
    "            sleep(1)\n",
    "            a=driver.find_elements(By.CLASS_NAME,\"content\")\n",
    "            for w in a:\n",
    "                s+=w.text+\"<br>\"\n",
    "            driver.back()\n",
    "            sleep(1)\n",
    "        day+=3\n",
    "    month+=1\n",
    "    day=1"
   ]
  },
  {
   "cell_type": "code",
   "execution_count": null,
   "id": "da34391b",
   "metadata": {},
   "outputs": [],
   "source": [
    "d={\"name\":[],\"date\":[],\"description\":[]}\n",
    "a=\"\";c=0\n",
    "for i in range(len(l)-1):\n",
    "    i=c\n",
    "    if i>=len(l):\n",
    "        break\n",
    "    a=l[i]\n",
    "    for j in range(i+1,len(l)-1):\n",
    "        if \"2023\" not in l[j]:\n",
    "            a+=l[j]\n",
    "        else:\n",
    "            d[\"name\"].append(a)\n",
    "            i=j\n",
    "                break\n",
    "    a=\"\"\n",
    "    if \"2023\" in l[i]:\n",
    "        a+=l[i]\n",
    "    i+=1\n",
    "    if \"2023\" in l[i]:\n",
    "        a+=l[i]\n",
    "    d[\"date\"].append(a)\n",
    "    a=\"\"\n",
    "    i+=1\n",
    "    for j in range(i,len(l)):\n",
    "        if \"Calendars:\"  not in l[j]:\n",
    "            a+=l[j]+\"\\n\"\n",
    "        else: \n",
    "            a+=l[j]\n",
    "            i=j\n",
    "            break\n",
    "    d[\"description\"].append(a)\n",
    "    c=i+1\n",
    "     \n",
    "c=0\n",
    "for i in range(len(d[\"name\"])-1):\n",
    "    for j in range(i+1,len(d[\"name\"])):\n",
    "        if i<len(d[\"name\"]) and j<len(d[\"name\"])-1:\n",
    "            if d[\"name\"][i]==d[\"name\"][j] and d[\"date\"][i]==d[\"date\"][j] and d[\"description\"][i]==d[\"description\"][j]:\n",
    "                d[\"name\"].remove(d[\"name\"][j])\n",
    "                d[\"date\"].remove(d[\"date\"][j])\n",
    "                d[\"description\"].remove(d[\"description\"][j])\n",
    "                    \n",
    "cred = credentials.Certificate(\"C:\\serviceAccount.json\")\n",
    "firebase_admin.initialize_app(cred)\n",
    "  \n",
    "db = firestore.client()\n",
    "  \n",
    "data = db.collection(u'data').document(u'events')\n",
    "data.update({u'name': d[\"name\"], u'date':d[\"date\"], u'description':d[\"description\"]})"
   ]
  },
  {
   "cell_type": "code",
   "execution_count": null,
   "id": "2216f360",
   "metadata": {},
   "outputs": [],
   "source": []
  },
  {
   "cell_type": "code",
   "execution_count": null,
   "id": "3388b40c",
   "metadata": {},
   "outputs": [],
   "source": []
  },
  {
   "cell_type": "code",
   "execution_count": null,
   "id": "f7c0a1e1",
   "metadata": {},
   "outputs": [],
   "source": []
  },
  {
   "cell_type": "code",
   "execution_count": null,
   "id": "dd29f2f3",
   "metadata": {},
   "outputs": [],
   "source": []
  },
  {
   "cell_type": "code",
   "execution_count": null,
   "id": "b8d12765",
   "metadata": {},
   "outputs": [],
   "source": []
  },
  {
   "cell_type": "code",
   "execution_count": null,
   "id": "67a031ac",
   "metadata": {},
   "outputs": [],
   "source": []
  },
  {
   "cell_type": "code",
   "execution_count": null,
   "id": "4d9e5399",
   "metadata": {},
   "outputs": [],
   "source": []
  },
  {
   "cell_type": "code",
   "execution_count": null,
   "id": "5673f7eb",
   "metadata": {},
   "outputs": [],
   "source": []
  },
  {
   "cell_type": "code",
   "execution_count": null,
   "id": "436795ae",
   "metadata": {},
   "outputs": [],
   "source": []
  },
  {
   "cell_type": "code",
   "execution_count": null,
   "id": "e7188574",
   "metadata": {},
   "outputs": [],
   "source": []
  },
  {
   "cell_type": "code",
   "execution_count": null,
   "id": "d5b52858",
   "metadata": {},
   "outputs": [],
   "source": []
  },
  {
   "cell_type": "code",
   "execution_count": null,
   "id": "0b34ea92",
   "metadata": {},
   "outputs": [],
   "source": []
  }
 ],
 "metadata": {
  "kernelspec": {
   "display_name": "Python 3 (ipykernel)",
   "language": "python",
   "name": "python3"
  },
  "language_info": {
   "codemirror_mode": {
    "name": "ipython",
    "version": 3
   },
   "file_extension": ".py",
   "mimetype": "text/x-python",
   "name": "python",
   "nbconvert_exporter": "python",
   "pygments_lexer": "ipython3",
   "version": "3.9.7"
  }
 },
 "nbformat": 4,
 "nbformat_minor": 5
}
