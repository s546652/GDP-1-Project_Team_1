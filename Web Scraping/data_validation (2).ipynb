{
 "cells": [
  {
   "cell_type": "code",
   "execution_count": null,
   "id": "38ffc0d3",
   "metadata": {},
   "outputs": [],
   "source": [
    "from selenium import webdriver\n",
    "from time import sleep\n",
    "from selenium.webdriver.chrome.service import Service\n",
    "from selenium.webdriver.support.ui import WebDriverWait\n",
    "from selenium.webdriver.support import expected_conditions as EC\n",
    "from selenium.webdriver.support.select import Select\n",
    "from selenium.webdriver.common.action_chains import ActionChains\n",
    "from bs4 import BeautifulSoup\n",
    "import codecs\n",
    "import re\n",
    "from webdriver_manager.chrome import ChromeDriverManager\n",
    "from selenium.webdriver.common.by import By\n",
    "from selenium.webdriver.support import expected_conditions as EC\n",
    "from datetime import date\n",
    "import firebase_admin\n",
    "from firebase_admin import credentials, firestore"
   ]
  },
  {
   "cell_type": "code",
   "execution_count": null,
   "id": "4b330c0e",
   "metadata": {},
   "outputs": [],
   "source": [
    "driver = webdriver.Chrome(executable_path=\"/Users/s546761/Documents/chromedriver\")\n",
    "day=date.today().day\n",
    "x=month=date.today().month\n",
    "year=date.today().year\n",
    "s=\"\""
   ]
  },
  {
   "cell_type": "code",
   "execution_count": null,
   "id": "1acd6f55",
   "metadata": {},
   "outputs": [],
   "source": [
    "while month<=x+1:\n",
    "    while day<=31:\n",
    "        driver.get(\"http://calendar.nwmissouri.edu/?d=\"+str(year)+\"-\"+str(month)+\"-\"+str(day))\n",
    "        sleep(2)\n",
    "        b=driver.find_elements(By.CLASS_NAME,\"event-data\")\n",
    "        c=driver.find_elements(By.CLASS_NAME,\"event-listing-name\")#.find_elements(By.TAG_NAME,\"a\")\n",
    "        l=[]\n",
    "        for y in range(len(c)):\n",
    "            c=driver.find_elements(By.CLASS_NAME,\"event-listing-name\")\n",
    "            c[y].find_element(By.TAG_NAME,\"a\").click() \n",
    "            sleep(1)\n",
    "            a=driver.find_elements(By.CLASS_NAME,\"content\")\n",
    "            for w in a:\n",
    "                s+=w.text+\"<br>\"\n",
    "            driver.back()\n",
    "            sleep(1)\n",
    "        day+=3\n",
    "    month+=1\n",
    "    day=1"
   ]
  },
  {
   "cell_type": "code",
   "execution_count": null,
   "id": "9990c680",
   "metadata": {},
   "outputs": [],
   "source": []
  },
  {
   "cell_type": "code",
   "execution_count": null,
   "id": "41328f13",
   "metadata": {},
   "outputs": [],
   "source": []
  },
  {
   "cell_type": "code",
   "execution_count": null,
   "id": "fcf9c625",
   "metadata": {},
   "outputs": [],
   "source": []
  },
  {
   "cell_type": "code",
   "execution_count": null,
   "id": "cf456b76",
   "metadata": {},
   "outputs": [],
   "source": []
  },
  {
   "cell_type": "code",
   "execution_count": null,
   "id": "97823fe0",
   "metadata": {},
   "outputs": [],
   "source": []
  },
  {
   "cell_type": "code",
   "execution_count": null,
   "id": "451f722a",
   "metadata": {},
   "outputs": [],
   "source": []
  },
  {
   "cell_type": "code",
   "execution_count": null,
   "id": "7cee881c",
   "metadata": {},
   "outputs": [],
   "source": []
  },
  {
   "cell_type": "code",
   "execution_count": null,
   "id": "4d9e5399",
   "metadata": {},
   "outputs": [],
   "source": []
  },
  {
   "cell_type": "code",
   "execution_count": null,
   "id": "5673f7eb",
   "metadata": {},
   "outputs": [],
   "source": []
  },
  {
   "cell_type": "code",
   "execution_count": null,
   "id": "436795ae",
   "metadata": {},
   "outputs": [],
   "source": []
  },
  {
   "cell_type": "code",
   "execution_count": null,
   "id": "e7188574",
   "metadata": {},
   "outputs": [],
   "source": []
  },
  {
   "cell_type": "code",
   "execution_count": null,
   "id": "d5b52858",
   "metadata": {},
   "outputs": [],
   "source": []
  },
  {
   "cell_type": "code",
   "execution_count": null,
   "id": "0b34ea92",
   "metadata": {},
   "outputs": [],
   "source": []
  }
 ],
 "metadata": {
  "kernelspec": {
   "display_name": "Python 3 (ipykernel)",
   "language": "python",
   "name": "python3"
  },
  "language_info": {
   "codemirror_mode": {
    "name": "ipython",
    "version": 3
   },
   "file_extension": ".py",
   "mimetype": "text/x-python",
   "name": "python",
   "nbconvert_exporter": "python",
   "pygments_lexer": "ipython3",
   "version": "3.9.7"
  }
 },
 "nbformat": 4,
 "nbformat_minor": 5
}
