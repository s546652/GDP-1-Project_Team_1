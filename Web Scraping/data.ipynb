{
 "cells": [
  {
   "cell_type": "code",
   "execution_count": 6,
   "id": "05587d0b",
   "metadata": {},
   "outputs": [],
   "source": [
    "s=s.replace(\"<br>\",\"\\n\")"
   ]
  },
  {
   "cell_type": "code",
   "execution_count": 7,
   "id": "548b0978",
   "metadata": {},
   "outputs": [],
   "source": [
    "l=s.split(\"\\n\")"
   ]
  },
  {
   "cell_type": "code",
   "execution_count": 8,
   "id": "c34c0cb9",
   "metadata": {},
   "outputs": [],
   "source": [
    "while(\"\" in l):\n",
    "    l.remove(\"\")"
   ]
  },
  {
   "cell_type": "code",
   "execution_count": 2,
   "id": "e238db01",
   "metadata": {},
   "outputs": [
    {
     "ename": "NameError",
     "evalue": "name 'l' is not defined",
     "output_type": "error",
     "traceback": [
      "\u001b[1;31m---------------------------------------------------------------------------\u001b[0m",
      "\u001b[1;31mNameError\u001b[0m                                 Traceback (most recent call last)",
      "\u001b[1;32m~\\AppData\\Local\\Temp/ipykernel_14508/3723490112.py\u001b[0m in \u001b[0;36m<module>\u001b[1;34m\u001b[0m\n\u001b[1;32m----> 1\u001b[1;33m \u001b[0ml\u001b[0m\u001b[1;33m\u001b[0m\u001b[1;33m\u001b[0m\u001b[0m\n\u001b[0m",
      "\u001b[1;31mNameError\u001b[0m: name 'l' is not defined"
     ]
    }
   ],
   "source": [
    "l"
   ]
  },
  {
   "cell_type": "code",
   "execution_count": 15,
   "id": "14b09a9d",
   "metadata": {},
   "outputs": [],
   "source": [
    "d={\"name\":[],\"date\":[],\"description\":[]}"
   ]
  },
  {
   "cell_type": "code",
   "execution_count": 77,
   "id": "ba5905a2",
   "metadata": {},
   "outputs": [],
   "source": [
    "d={\"name\":[],\"date\":[],\"description\":[]}\n",
    "a=\"\";c=0\n",
    "for i in range(len(l)-1):\n",
    "    i=c\n",
    "    if i>=len(l):\n",
    "        break\n",
    "    a=l[i]\n",
    "    for j in range(i+1,len(l)-1):\n",
    "        if \"2023\" not in l[j]:\n",
    "            a+=l[j]\n",
    "        else:\n",
    "            d[\"name\"].append(a)\n",
    "            i=j\n",
    "            break\n",
    "    a=\"\"\n",
    "    if \"2023\" in l[i]:\n",
    "        a+=l[i]\n",
    "    i+=1\n",
    "    if \"2023\" in l[i]:\n",
    "        a+=l[i]\n",
    "    d[\"date\"].append(a)\n",
    "    a=\"\"\n",
    "    i+=1\n",
    "    for j in range(i,len(l)):\n",
    "        if \"Calendars:\"  not in l[j]:\n",
    "            a+=l[j]+\"\\n\"\n",
    "        else: \n",
    "            a+=l[j]\n",
    "            i=j\n",
    "            break\n",
    "    d[\"description\"].append(a)\n",
    "    c=i+1"
   ]
  },
  {
   "cell_type": "code",
   "execution_count": 1,
   "id": "7b43e771",
   "metadata": {},
   "outputs": [
    {
     "ename": "NameError",
     "evalue": "name 'd' is not defined",
     "output_type": "error",
     "traceback": [
      "\u001b[1;31m---------------------------------------------------------------------------\u001b[0m",
      "\u001b[1;31mNameError\u001b[0m                                 Traceback (most recent call last)",
      "\u001b[1;32m~\\AppData\\Local\\Temp/ipykernel_14508/623053649.py\u001b[0m in \u001b[0;36m<module>\u001b[1;34m\u001b[0m\n\u001b[0;32m      1\u001b[0m \u001b[0mc\u001b[0m\u001b[1;33m=\u001b[0m\u001b[1;36m0\u001b[0m\u001b[1;33m\u001b[0m\u001b[1;33m\u001b[0m\u001b[0m\n\u001b[1;32m----> 2\u001b[1;33m \u001b[1;32mfor\u001b[0m \u001b[0mi\u001b[0m \u001b[1;32min\u001b[0m \u001b[0mrange\u001b[0m\u001b[1;33m(\u001b[0m\u001b[0mlen\u001b[0m\u001b[1;33m(\u001b[0m\u001b[0md\u001b[0m\u001b[1;33m[\u001b[0m\u001b[1;34m\"name\"\u001b[0m\u001b[1;33m]\u001b[0m\u001b[1;33m)\u001b[0m\u001b[1;33m-\u001b[0m\u001b[1;36m1\u001b[0m\u001b[1;33m)\u001b[0m\u001b[1;33m:\u001b[0m\u001b[1;33m\u001b[0m\u001b[1;33m\u001b[0m\u001b[0m\n\u001b[0m\u001b[0;32m      3\u001b[0m     \u001b[1;32mfor\u001b[0m \u001b[0mj\u001b[0m \u001b[1;32min\u001b[0m \u001b[0mrange\u001b[0m\u001b[1;33m(\u001b[0m\u001b[0mi\u001b[0m\u001b[1;33m+\u001b[0m\u001b[1;36m1\u001b[0m\u001b[1;33m,\u001b[0m\u001b[0mlen\u001b[0m\u001b[1;33m(\u001b[0m\u001b[0md\u001b[0m\u001b[1;33m[\u001b[0m\u001b[1;34m\"name\"\u001b[0m\u001b[1;33m]\u001b[0m\u001b[1;33m)\u001b[0m\u001b[1;33m)\u001b[0m\u001b[1;33m:\u001b[0m\u001b[1;33m\u001b[0m\u001b[1;33m\u001b[0m\u001b[0m\n\u001b[0;32m      4\u001b[0m         \u001b[1;32mif\u001b[0m \u001b[0mi\u001b[0m\u001b[1;33m<\u001b[0m\u001b[0mlen\u001b[0m\u001b[1;33m(\u001b[0m\u001b[0md\u001b[0m\u001b[1;33m[\u001b[0m\u001b[1;34m\"name\"\u001b[0m\u001b[1;33m]\u001b[0m\u001b[1;33m)\u001b[0m \u001b[1;32mand\u001b[0m \u001b[0mj\u001b[0m\u001b[1;33m<\u001b[0m\u001b[0mlen\u001b[0m\u001b[1;33m(\u001b[0m\u001b[0md\u001b[0m\u001b[1;33m[\u001b[0m\u001b[1;34m\"name\"\u001b[0m\u001b[1;33m]\u001b[0m\u001b[1;33m)\u001b[0m\u001b[1;33m-\u001b[0m\u001b[1;36m1\u001b[0m\u001b[1;33m:\u001b[0m\u001b[1;33m\u001b[0m\u001b[1;33m\u001b[0m\u001b[0m\n\u001b[0;32m      5\u001b[0m             \u001b[1;32mif\u001b[0m \u001b[0md\u001b[0m\u001b[1;33m[\u001b[0m\u001b[1;34m\"name\"\u001b[0m\u001b[1;33m]\u001b[0m\u001b[1;33m[\u001b[0m\u001b[0mi\u001b[0m\u001b[1;33m]\u001b[0m\u001b[1;33m==\u001b[0m\u001b[0md\u001b[0m\u001b[1;33m[\u001b[0m\u001b[1;34m\"name\"\u001b[0m\u001b[1;33m]\u001b[0m\u001b[1;33m[\u001b[0m\u001b[0mj\u001b[0m\u001b[1;33m]\u001b[0m \u001b[1;32mand\u001b[0m \u001b[0md\u001b[0m\u001b[1;33m[\u001b[0m\u001b[1;34m\"date\"\u001b[0m\u001b[1;33m]\u001b[0m\u001b[1;33m[\u001b[0m\u001b[0mi\u001b[0m\u001b[1;33m]\u001b[0m\u001b[1;33m==\u001b[0m\u001b[0md\u001b[0m\u001b[1;33m[\u001b[0m\u001b[1;34m\"date\"\u001b[0m\u001b[1;33m]\u001b[0m\u001b[1;33m[\u001b[0m\u001b[0mj\u001b[0m\u001b[1;33m]\u001b[0m \u001b[1;32mand\u001b[0m \u001b[0md\u001b[0m\u001b[1;33m[\u001b[0m\u001b[1;34m\"description\"\u001b[0m\u001b[1;33m]\u001b[0m\u001b[1;33m[\u001b[0m\u001b[0mi\u001b[0m\u001b[1;33m]\u001b[0m\u001b[1;33m==\u001b[0m\u001b[0md\u001b[0m\u001b[1;33m[\u001b[0m\u001b[1;34m\"description\"\u001b[0m\u001b[1;33m]\u001b[0m\u001b[1;33m[\u001b[0m\u001b[0mj\u001b[0m\u001b[1;33m]\u001b[0m\u001b[1;33m:\u001b[0m\u001b[1;33m\u001b[0m\u001b[1;33m\u001b[0m\u001b[0m\n",
      "\u001b[1;31mNameError\u001b[0m: name 'd' is not defined"
     ]
    }
   ],
   "source": [
    "c=0\n",
    "for i in range(len(d[\"name\"])-1):\n",
    "    for j in range(i+1,len(d[\"name\"])):\n",
    "        if i<len(d[\"name\"]) and j<len(d[\"name\"])-1:\n",
    "            if d[\"name\"][i]==d[\"name\"][j] and d[\"date\"][i]==d[\"date\"][j] and d[\"description\"][i]==d[\"description\"][j]:\n",
    "                d[\"name\"].remove(d[\"name\"][j])\n",
    "                d[\"date\"].remove(d[\"date\"][j])\n",
    "                d[\"description\"].remove(d[\"description\"][j])"
   ]
  },
  {
   "cell_type": "code",
   "execution_count": 79,
   "id": "58a6af1a",
   "metadata": {},
   "outputs": [
    {
     "data": {
      "text/plain": [
       "['Concert Band and Symphonic Band concertOlive DeLuce Fine Arts Building, Charles Johnson Theater',\n",
       " 'Student Senate: Winter blood driveJ.W. Jones Student Union, BallroomMaryville, MO',\n",
       " \"Distinguished Scholar's Day Make Up DayRon Houston Center for the Performing Arts, Mary Linn Auditorium\",\n",
       " 'Career Pathing: Mocktail partyJ.W. Jones Student Union, Boardroom',\n",
       " 'Music Faculty ShowcaseOlive DeLuce Fine Arts Building, Charles Johnson Theater -- Auditorium',\n",
       " 'Occupy Valk: \"Crisis in Ukraine: Year One\"Valk Center, Room 118',\n",
       " 'ODI movie night: \"Fruitvale Station\"J.W. Jones Student Union, Boardroom',\n",
       " 'Faculty Recital: Women composers of Pan-America, Dr. Rachel Velarde & Dr. Jiwon ChoiOlive DeLuce Fine Arts Building, Charles Johnson Theater',\n",
       " 'PlayFest Series: \"Crush\"Ron Houston Center for the Performing Arts, Mary Linn Auditorium',\n",
       " 'Student Senate: Winter blood driveJ.W. Jones Student Union, BallroomMaryville, MO',\n",
       " 'Board of Regents Committee Meeting: Ad Hoc SelectionAdministration Building, Provost Conference Room 155',\n",
       " \"Women's Basketball vs Central OklahomaLamkin Activity Center, Beacrat Arena\",\n",
       " \"Men's Basketball vs Central OklahomaLamkin Activity Center, Beacrat Arena\",\n",
       " 'Wind Symphony and Symphonic Band concertRon Houston Center for the Performing Arts, Mary Linn Auditorium',\n",
       " 'Student Payday',\n",
       " 'Engage TrainingJ.W. Jones Student Union, Tower View Room800 University Drive, Maryville, MO',\n",
       " 'Theatre Northwest: \"The Humans\"Ron Houston Center for the Performing ArtsMaryville, MO',\n",
       " 'Accepted Student Visit DayJ.W. Jones Student Union, 3rd Floor',\n",
       " \"Women's Basketball vs Missouri SouthernLamkin Activity Center, Beacrat Arena\",\n",
       " \"Men's Basketball vs Missouri SouthernLamkin Activity Center, Beacrat Arena\",\n",
       " 'Theatre Northwest: \"The Humans\"Ron Houston Center for the Performing ArtsMaryville, MO',\n",
       " 'Observance: Black History Month',\n",
       " 'Study Abroad FairJ.W. Jones Student Union, 3rd Floor, Towerview800 University Drive, Maryville, MO',\n",
       " 'Intramural: FIFAJ.W. Jones Student Union, E-Sports Lab',\n",
       " 'Observance: Black History Month',\n",
       " 'Discover Your Major Visit Day: AgricultureAgricultural Learning Center',\n",
       " 'Intramural: DodgeballStudent Rec Center',\n",
       " 'Black History Month: Art exhibit, \"Bias in America\"',\n",
       " \"Observance: Women's History Month\",\n",
       " 'Career DayCarl and Cheryl Hughes Fieldhouse',\n",
       " \"Up 'til Dawn: Cut LooseLamkin Activity Center, Bearcat Arena\"]"
      ]
     },
     "execution_count": 79,
     "metadata": {},
     "output_type": "execute_result"
    }
   ],
   "source": [
    "d[\"name\"]"
   ]
  },
  {
   "cell_type": "code",
   "execution_count": 70,
   "id": "87901544",
   "metadata": {},
   "outputs": [
    {
     "data": {
      "text/plain": [
       "['Tuesday, February 21, 2023 @ 7:30 pm',\n",
       " 'Wednesday, February 22, 2023 @ 11:00 am - 4:30 pm',\n",
       " 'Wednesday, February 22, 2023 @ 1:00 pm - 4:30 pm',\n",
       " 'Wednesday, February 22, 2023 @ 2:00 pm - 4:00 pm',\n",
       " 'Wednesday, February 22, 2023 @ 3:00 pm',\n",
       " 'Wednesday, February 22, 2023 @ 6:00 pm',\n",
       " 'Wednesday, February 22, 2023 @ 6:00 pm - 8:00 pm',\n",
       " 'Wednesday, February 22, 2023 @ 7:30 pm',\n",
       " 'Wednesday, February 22, 2023 @ 7:30 pm',\n",
       " 'Thursday, February 23, 2023 @ 11:00 am - 4:30 pm',\n",
       " 'Thursday, February 23, 2023 @ 4:00 pm',\n",
       " 'Thursday, February 23, 2023 @ 5:30 pm',\n",
       " 'Thursday, February 23, 2023 @ 7:30 pm',\n",
       " 'Thursday, February 23, 2023 @ 7:30 pm',\n",
       " 'Friday, February 24, 2023',\n",
       " 'Friday, February 24, 2023 @ 3:00 pm - 4:30 pm',\n",
       " 'Friday, February 24, 2023 @ 7:30 pm',\n",
       " 'Saturday, February 25, 2023 @ 9:00 am - 2:00 pm',\n",
       " 'Saturday, February 25, 2023 @ 1:30 pm',\n",
       " 'Saturday, February 25, 2023 @ 3:30 pm',\n",
       " 'Saturday, February 25, 2023 @ 7:30 pm',\n",
       " 'Wednesday, February 1, 2023 -Tuesday, February 28, 2023',\n",
       " 'Monday, February 27, 2023 @ 9:00 am - 2:00 pm',\n",
       " 'Monday, February 27, 2023 @ 5:00 pm - 9:00 pmRegister by: 2/23/2023',\n",
       " 'Wednesday, February 1, 2023 -Tuesday, February 28, 2023',\n",
       " 'Tuesday, February 28, 2023 @ 9:00 am - 2:30 pm',\n",
       " 'Tuesday, February 28, 2023 @ 5:00 pm - 9:00 pmRegister by: 2/23/2023',\n",
       " 'Tuesday, February 21, 2023 -Friday, March 17, 2023',\n",
       " 'Wednesday, March 1, 2023 -Friday, March 31, 2023',\n",
       " 'Wednesday, March 1, 2023 @ 9:00 am - 1:00 pm',\n",
       " 'Wednesday, March 1, 2023 @ 5:00 pm']"
      ]
     },
     "execution_count": 70,
     "metadata": {},
     "output_type": "execute_result"
    }
   ],
   "source": [
    "d[\"date\"]"
   ]
  },
  {
   "cell_type": "code",
   "execution_count": 71,
   "id": "f53c4c99",
   "metadata": {},
   "outputs": [
    {
     "data": {
      "text/plain": [
       "['Calendars: Alumni & Friends - Faculty / Staff - Performances and Arts - Student Events ',\n",
       " 'The Community Blood Center is the primary supplier of blood and blood components in the region, serving more than 65 local hospitals and medical centers. Student Senate annually sponsors fall, winter and spring blood drives in cooperation with the Community Blood Center to boost blood supplies in northwest Missouri.\\nContact Info\\nStudent Senate Civic Service Committee\\nsencivc@nwmissouri.edu\\n(660) 562-1218\\nCalendars: Alumni & Friends - Faculty / Staff - Student Events ',\n",
       " 'Contact Info\\nKristin Little\\nkristinl@nwmissouri.edu\\n(660) 562-1587\\nCalendars: Admissions - Financial Dates ',\n",
       " 'Career Pathing provides professional development opportunities, and students earn pay increases for their attendance. Register at https://www.nwmissouri.edu/hr/student/trainingopps.htm\\nContact Info\\nPaula McLain\\npmclain@nwmissouri.edu\\n(660) 562-1140\\nCalendars: Student Events ',\n",
       " 'Intramural: Cornhole\\nStudent Rec Center\\nWednesday, February 22, 2023 @ 5:00 pm - 9:00 pm\\nRegister by: 2/20/2023\\non imleagues.com/nwmissouri\\nContact Info\\ncrec@nwmissouri.edu\\n(660) 562-1606\\nCalendars: Faculty / Staff - Student Events ',\n",
       " 'Contact Info\\nMatt Johnson\\nMJOHNSO@NWMISSOURI.EDU\\n(660) 562-1697\\nCalendars: Academics - Faculty / Staff - Student Events ',\n",
       " 'Contact Info\\nOffice of Diversity and Inclusion\\ndiversity@nwmissouri.edu\\nCalendars: Faculty / Staff - Multicultural - Student Events ',\n",
       " 'Contact Info\\nJiwon Choi\\njiwonc@nwmissouri.edu\\n(660) 562-1030\\nCalendars: Faculty / Staff - Performances and Arts - Student Events ',\n",
       " 'Tickets are available for $12 and allow purchasers to attend as many plays as they wish. Tickets may be purchased with cash or check only by calling 660.562.1321 or at the box office beginning one hour before each show.\\nhttps://nwmsbearcats.hometownticketing.com/embed/all?depts=2\\n\"Crush\" is written by Stephen Gregg and directed by Megan Moseby.\\nContact Info\\nStephi Jorandby\\nstephi@nwmissouri.edu\\n(660) 562-1503\\nCalendars: Performances and Arts - Student Events ',\n",
       " 'The Community Blood Center is the primary supplier of blood and blood components in the region, serving more than 65 local hospitals and medical centers. Student Senate annually sponsors fall, winter and spring blood drives in cooperation with the Community Blood Center to boost blood supplies in northwest Missouri.\\nContact Info\\nStudent Senate Civic Service Committee\\nsencivc@nwmissouri.edu\\n(660) 562-1218\\nCalendars: Alumni & Friends - Faculty / Staff - Student Events ',\n",
       " 'The tentative agenda is available at https://www.nwmissouri.edu/aboutus/regents/meetings/2023/Feb23adhocselection.htm.\\nThe Ad Hoc Selection Committee was formed by the Board of Regents to select a search firm that will assist with Northwest’s presidential search.\\nContact Info\\nDiane Hargrave\\nDIANEH@nwmissouri.edu\\n(660) 562-1120\\nCalendars: Alumni & Friends - Faculty / Staff - Student Events ',\n",
       " 'Contact Info\\nRyan Milke\\nrmilke@nwmissouri.edu\\n(660) 562-1581\\nCalendars: Alumni & Friends - Athletics - Faculty / Staff - Student Events ',\n",
       " 'Contact Info\\nRyan Milke\\nrmilke@nwmissouri.edu\\n(660) 562-1581\\nCalendars: Alumni & Friends - Athletics - Faculty / Staff - Student Events ',\n",
       " 'Calendars: Faculty / Staff - Performances and Arts - Student Events ',\n",
       " '(660) 562-1108\\nCalendars: Financial Dates - Student Events ',\n",
       " 'Training sessions are 60 to 90 minutes. The core information remains the same for both options, but overviews include in-depth discussions and activities.\\nTo attend, register at: https://forms.office.com/r/Nad2Cd2qVe\\nFor more information about Engage, to become a training facilitator or to schedule a training session, contact Isabelle Talkington at istewart@nwmissouri.edu or 660.562.1060.\\nContact Info\\nIsabelle Talkington\\nistewart@nwmissouri.edu\\n(660) 562-1060\\nCalendars: Faculty / Staff - Student Events ',\n",
       " 'Contact Info\\nTheatre Northwest\\ntheatre@nwmissouri.edu\\n(660) 562-1321\\nCalendars: Faculty / Staff - Performances and Arts - Student Events ',\n",
       " 'Registration is closed. We have reached our capacity for this visit day.\\nTo learn more about the event, please visit the below link:\\nhttps://www.nwmissouri.edu/admissions/campusvisits/events/accepted.htm\\nContact Info\\nKristin Little\\nkristinl@nwmissouri.edu\\n(660) 562-1587\\nCalendars: Admissions ',\n",
       " 'Contact Info\\nRyan Milke\\nrmilke@nwmissouri.edu\\n(660) 562-1581\\nCalendars: Alumni & Friends - Athletics - Faculty / Staff - Student Events ',\n",
       " 'Contact Info\\nRyan Milke\\nrmilke@nwmissouri.edu\\n(660) 562-1581\\nCalendars: Alumni & Friends - Athletics - Faculty / Staff ',\n",
       " 'Contact Info\\nTheatre Northwest\\ntheatre@nwmissouri.edu\\n(660) 562-1321\\nCalendars: Faculty / Staff - Performances and Arts - Student Events ',\n",
       " 'February was chosen to celebrate African American History because it holds the birthdays of two men who helped eliminate slavery: Frederick Douglass and President Abraham Lincoln.\\nContact Info\\nOffice of Diversity and Inclusion\\ndiversity@nwmissouri.edu\\nCalendars: Multicultural ',\n",
       " 'Contact Info\\nStudy Abroad Office\\nstudyab@nwmissouri.edu\\n(660) 562-1367\\nCalendars: Multicultural - Student Events ',\n",
       " 'on imleagues.com/nwmissouri\\nCalendars: Faculty / Staff - Student Events ',\n",
       " 'February was chosen to celebrate African American History because it holds the birthdays of two men who helped eliminate slavery: Frederick Douglass and President Abraham Lincoln.\\nContact Info\\nOffice of Diversity and Inclusion\\ndiversity@nwmissouri.edu\\nCalendars: Multicultural ',\n",
       " 'To learn more about the event, please visit the below link:\\nhttps://www.nwmissouri.edu/admissions/campusvisits/events/agSP2.htm\\nContact Info\\nShelby Wood\\nsletuli@nwmissouri.edu\\n(660) 562-1587\\nCalendars: Admissions ',\n",
       " 'on imleagues.com/nwmissouri\\nContact Info\\ncrec@nwmissouri.edu\\n(660) 562-1606\\nCalendars: Faculty / Staff - Student Events ',\n",
       " 'The art exhibition, \"Bias in America,\" is sponsored by Art Club, a student organization of the Department of Fine & Performing Arts, and presents work produced by art students and club members that explores various forms of bias in society including race, ethnicity and national origins, gender, sexuality, religion, and mental health.\\nThe exhibited work is intended to promote reflection and thoughtful dialogue on some of the most pressing issues of our time.\\nContact Info\\nOffice of Diversity and Inclusion\\ndiversity@nwmissouri.edu\\nCalendars: Alumni & Friends - Faculty / Staff - Multicultural - Student Events ',\n",
       " 'Honors the role of women in American history\\nContact Info\\nOffice of Diversity and Inclusion\\ndiversity@nwmissouri.edu\\nCalendars: Multicultural ',\n",
       " 'For more information, visit https://www.nwmissouri.edu/career/events/career-day.htm\\nContact Info\\nCareer Services\\ncareer@nwmissouri.edu\\n(660) 562-1250\\nCalendars: Student Events ',\n",
       " 'Attendance is free and T-shirts are provided to participants. Register at https://linktr.ee/stjudebearcats\\nCalendars: Faculty / Staff - Student Events ']"
      ]
     },
     "execution_count": 71,
     "metadata": {},
     "output_type": "execute_result"
    }
   ],
   "source": [
    "d[\"description\"]"
   ]
  },
  {
   "cell_type": "code",
   "execution_count": 41,
   "id": "f22512de",
   "metadata": {},
   "outputs": [
    {
     "data": {
      "text/plain": [
       "<firebase_admin.App at 0x1e0895c7fa0>"
      ]
     },
     "execution_count": 41,
     "metadata": {},
     "output_type": "execute_result"
    }
   ],
   "source": [
    "import firebase_admin\n",
    "from firebase_admin import credentials, firestore\n",
    "\n",
    "cred = credentials.Certificate(\"C:\\serviceAccount.json\")\n",
    "firebase_admin.initialize_app(cred)"
   ]
  },
  {
   "cell_type": "code",
   "execution_count": 42,
   "id": "ac66113a",
   "metadata": {},
   "outputs": [],
   "source": [
    "db = firestore.client()"
   ]
  },
  {
   "cell_type": "code",
   "execution_count": 80,
   "id": "e5b5a343",
   "metadata": {},
   "outputs": [
    {
     "data": {
      "text/plain": [
       "update_time {\n",
       "  seconds: 1677041682\n",
       "  nanos: 300788000\n",
       "}"
      ]
     },
     "execution_count": 80,
     "metadata": {},
     "output_type": "execute_result"
    }
   ],
   "source": [
    "data = db.collection(u'data').document(u'events')\n",
    "data.update({u'name': d[\"name\"], u'date':d[\"date\"], u'description':d[\"description\"]})"
   ]
  },
  {
   "cell_type": "code",
   "execution_count": null,
   "id": "b7bc46f1",
   "metadata": {},
   "outputs": [],
   "source": []
  },
  {
   "cell_type": "code",
   "execution_count": null,
   "id": "6e767137",
   "metadata": {},
   "outputs": [],
   "source": []
  },
  {
   "cell_type": "code",
   "execution_count": null,
   "id": "95ccd1bc",
   "metadata": {},
   "outputs": [],
   "source": []
  },
  {
   "cell_type": "code",
   "execution_count": null,
   "id": "bc37befe",
   "metadata": {},
   "outputs": [],
   "source": []
  },
  {
   "cell_type": "code",
   "execution_count": null,
   "id": "ffd96dac",
   "metadata": {},
   "outputs": [],
   "source": []
  },
  {
   "cell_type": "code",
   "execution_count": null,
   "id": "f2ebece0",
   "metadata": {},
   "outputs": [],
   "source": []
  },
  {
   "cell_type": "code",
   "execution_count": null,
   "id": "ce04d6d9",
   "metadata": {},
   "outputs": [],
   "source": []
  },
  {
   "cell_type": "code",
   "execution_count": null,
   "id": "e5335395",
   "metadata": {},
   "outputs": [],
   "source": []
  },
  {
   "cell_type": "code",
   "execution_count": null,
   "id": "90b52a2f",
   "metadata": {},
   "outputs": [],
   "source": []
  },
  {
   "cell_type": "code",
   "execution_count": null,
   "id": "5f2a0e9e",
   "metadata": {},
   "outputs": [],
   "source": []
  },
  {
   "cell_type": "code",
   "execution_count": null,
   "id": "c3c074eb",
   "metadata": {},
   "outputs": [],
   "source": []
  },
  {
   "cell_type": "code",
   "execution_count": null,
   "id": "ac3269b1",
   "metadata": {},
   "outputs": [],
   "source": []
  },
  {
   "cell_type": "code",
   "execution_count": null,
   "id": "cb066eed",
   "metadata": {},
   "outputs": [],
   "source": []
  },
  {
   "cell_type": "code",
   "execution_count": null,
   "id": "9af311f3",
   "metadata": {},
   "outputs": [],
   "source": []
  },
  {
   "cell_type": "code",
   "execution_count": null,
   "id": "f1ad396f",
   "metadata": {},
   "outputs": [],
   "source": []
  }
 ],
 "metadata": {
  "kernelspec": {
   "display_name": "Python 3 (ipykernel)",
   "language": "python",
   "name": "python3"
  },
  "language_info": {
   "codemirror_mode": {
    "name": "ipython",
    "version": 3
   },
   "file_extension": ".py",
   "mimetype": "text/x-python",
   "name": "python",
   "nbconvert_exporter": "python",
   "pygments_lexer": "ipython3",
   "version": "3.9.7"
  }
 },
 "nbformat": 4,
 "nbformat_minor": 5
}
