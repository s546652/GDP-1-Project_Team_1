{
 "cells": [
  {
   "cell_type": "code",
   "execution_count": null,
   "id": "bba6107d",
   "metadata": {},
   "outputs": [],
   "source": [
    "from selenium import webdriver\n",
    "from time import sleep\n",
    "from selenium.webdriver.chrome.service import Service\n",
    "from selenium.webdriver.support.ui import WebDriverWait\n",
    "from selenium.webdriver.support import expected_conditions as EC\n",
    "from selenium.webdriver.support.select import Select\n",
    "from selenium.webdriver.common.action_chains import ActionChains\n",
    "from bs4 import BeautifulSoup\n",
    "import codecs\n",
    "import re\n",
    "from webdriver_manager.chrome import ChromeDriverManager\n",
    "from selenium.webdriver.common.by import By\n",
    "from selenium.webdriver.support import expected_conditions as EC\n",
    "from datetime import date\n",
    "import firebase_admin\n",
    "from firebase_admin import credentials, firestore"
   ]
  },
  {
   "cell_type": "code",
   "execution_count": null,
   "id": "d955dece",
   "metadata": {},
   "outputs": [],
   "source": [
    "driver = webdriver.Chrome(executable_path=\"/Users/s546761/Documents/chromedriver\")\n",
    "driver.get(\"http://calendar.nwmissouri.edu\")\n",
    "sleep(2)\n",
    "z=0;p=1 #date.today().day\n",
    "f=p;s=\"\"\n",
    "d=driver.find_element(By.XPATH,'''//*[@id=\"calendar_control\"]/table/tbody/tr[1]/td[3]/a''')"
   ]
  },
  {
   "cell_type": "code",
   "execution_count": null,
   "id": "04e1c20c",
   "metadata": {},
   "outputs": [],
   "source": [
    "for i in range(3,9):\n",
    "    for j in range(1,8):\n",
    "        m=driver.find_elements(By.XPATH,'''//*[@id=\"calendar_control\"]/table/tbody/tr['''+str(i)+''']/td['''+str(j)+''']''')\n",
    "        for k in range(len(m)):\n",
    "            m=driver.find_elements(By.XPATH,'''//*[@id=\"calendar_control\"]/table/tbody/tr['''+str(i)+''']/td['''+str(j)+''']''')\n",
    "            if m[k].text==(str)(3): #(date.today().day):\n",
    "                z+=1\n",
    "            #z=1\n",
    "            if z==1:\n",
    "                if int(m[k].text)<f+3 and int(m[k].text)<28:\n",
    "                    continue\n",
    "                f+=3\n",
    "                b=driver.find_elements(By.CLASS_NAME,\"event-data\")\n",
    "                c=driver.find_elements(By.CLASS_NAME,\"event-listing-name\")#.find_elements(By.TAG_NAME,\"a\")\n",
    "                l=[];x=1\n",
    "                for y in range(len(c)):\n",
    "                    c=driver.find_elements(By.CLASS_NAME,\"event-listing-name\")\n",
    "                    c[y].find_element(By.TAG_NAME,\"a\").click() \n",
    "                    sleep(1)\n",
    "                    a=driver.find_elements(By.CLASS_NAME,\"content\")\n",
    "                    for w in a:\n",
    "                        s+=w.text+\"<br>\"\n",
    "                    ss=s\n",
    "                    driver.back()\n",
    "                    sleep(1)\n",
    "                m=driver.find_elements(By.XPATH,'''//*[@id=\"calendar_control\"]/table/tbody/tr['''+str(i)+''']/td['''+str(j)+''']''')\n",
    "                m[k].click()\n",
    "                m=driver.find_elements(By.XPATH,'''//*[@id=\"calendar_control\"]/table/tbody/tr['''+str(i)+''']/td['''+str(j)+''']''')\n",
    "               # if int(m[k].text)>=30:\n",
    "                    #f=1;\n",
    "                    #print(\"abcd\")\n",
    "                    #d=driver.find_element(By.XPATH,'''//*[@id=\"calendar_control\"]/table/tbody/tr[1]/td[3]/a''')\n",
    "                    #d.click()\n",
    "                    #break\n",
    "    print(i)\n",
    "print(s)  \n",
    "#driver.close()\n",
    "#driver.quit()"
   ]
  },
  {
   "cell_type": "code",
   "execution_count": null,
   "id": "42f76b7c",
   "metadata": {},
   "outputs": [],
   "source": [
    "s1+=s\n",
    "print(s1)"
   ]
  },
  {
   "cell_type": "code",
   "execution_count": null,
   "id": "84107ed0",
   "metadata": {},
   "outputs": [],
   "source": [
    "s=s1"
   ]
  },
  {
   "cell_type": "code",
   "execution_count": null,
   "id": "35d9ca6c",
   "metadata": {},
   "outputs": [],
   "source": [
    "s=s.replace(\"<br>\",\"\\n\")"
   ]
  },
  {
   "cell_type": "code",
   "execution_count": null,
   "id": "26e9c4b4",
   "metadata": {},
   "outputs": [],
   "source": [
    "l=s.split(\"\\n\")"
   ]
  },
  {
   "cell_type": "code",
   "execution_count": null,
   "id": "808476e5",
   "metadata": {},
   "outputs": [],
   "source": [
    "while(\"\" in l):\n",
    "    l.remove(\"\")"
   ]
  },
  {
   "cell_type": "code",
   "execution_count": null,
   "id": "f3891ed6",
   "metadata": {},
   "outputs": [],
   "source": []
  },
  {
   "cell_type": "code",
   "execution_count": null,
   "id": "572a9cad",
   "metadata": {},
   "outputs": [],
   "source": []
  },
  {
   "cell_type": "code",
   "execution_count": null,
   "id": "84cd4871",
   "metadata": {},
   "outputs": [],
   "source": []
  },
  {
   "cell_type": "code",
   "execution_count": null,
   "id": "3f20caca",
   "metadata": {},
   "outputs": [],
   "source": []
  },
  {
   "cell_type": "code",
   "execution_count": null,
   "id": "618306c4",
   "metadata": {},
   "outputs": [],
   "source": []
  },
  {
   "cell_type": "code",
   "execution_count": null,
   "id": "657ff076",
   "metadata": {},
   "outputs": [],
   "source": []
  },
  {
   "cell_type": "code",
   "execution_count": null,
   "id": "c24f756e",
   "metadata": {},
   "outputs": [],
   "source": []
  },
  {
   "cell_type": "code",
   "execution_count": null,
   "id": "02161c09",
   "metadata": {},
   "outputs": [],
   "source": []
  },
  {
   "cell_type": "code",
   "execution_count": null,
   "id": "586434fe",
   "metadata": {},
   "outputs": [],
   "source": []
  },
  {
   "cell_type": "code",
   "execution_count": null,
   "id": "470ebbf1",
   "metadata": {},
   "outputs": [],
   "source": []
  },
  {
   "cell_type": "code",
   "execution_count": null,
   "id": "3c9f93a0",
   "metadata": {},
   "outputs": [],
   "source": []
  }
 ],
 "metadata": {
  "kernelspec": {
   "display_name": "Python 3 (ipykernel)",
   "language": "python",
   "name": "python3"
  },
  "language_info": {
   "codemirror_mode": {
    "name": "ipython",
    "version": 3
   },
   "file_extension": ".py",
   "mimetype": "text/x-python",
   "name": "python",
   "nbconvert_exporter": "python",
   "pygments_lexer": "ipython3",
   "version": "3.9.7"
  }
 },
 "nbformat": 4,
 "nbformat_minor": 5
}
