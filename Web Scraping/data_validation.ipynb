{
 "cells": [
  {
   "cell_type": "code",
   "execution_count": null,
   "id": "8e5d8e68",
   "metadata": {},
   "outputs": [],
   "source": [
    "from selenium import webdriver\n",
    "from time import sleep\n",
    "from selenium.webdriver.chrome.service import Service\n",
    "from selenium.webdriver.support.ui import WebDriverWait\n",
    "from selenium.webdriver.support import expected_conditions as EC\n",
    "from selenium.webdriver.support.select import Select\n",
    "from selenium.webdriver.common.action_chains import ActionChains\n",
    "from bs4 import BeautifulSoup\n",
    "import codecs\n",
    "import re\n",
    "from webdriver_manager.chrome import ChromeDriverManager\n",
    "from selenium.webdriver.common.by import By\n",
    "from selenium.webdriver.support import expected_conditions as EC\n",
    "from datetime import date\n",
    "import firebase_admin\n",
    "from firebase_admin import credentials, firestore"
   ]
  },
  {
   "cell_type": "code",
   "execution_count": null,
   "id": "5e1c5c93",
   "metadata": {},
   "outputs": [],
   "source": [
    "driver = webdriver.Chrome(executable_path=\"/Users/s546761/Documents/chromedriver\")\n",
    "driver.get(\"http://calendar.nwmissouri.edu\")\n",
    "sleep(2)\n",
    "z=0;p=1 #date.today().day\n",
    "f=p;s=\"\"\n",
    "d=driver.find_element(By.XPATH,'''//*[@id=\"calendar_control\"]/table/tbody/tr[1]/td[3]/a''')"
   ]
  },
  {
   "cell_type": "code",
   "execution_count": null,
   "id": "39539fd2",
   "metadata": {},
   "outputs": [],
   "source": [
    "for i in range(3,9):\n",
    "    for j in range(1,8):\n",
    "        m=driver.find_elements(By.XPATH,'''//*[@id=\"calendar_control\"]/table/tbody/tr['''+str(i)+''']/td['''+str(j)+''']''')\n",
    "        for k in range(len(m)):\n",
    "            m=driver.find_elements(By.XPATH,'''//*[@id=\"calendar_control\"]/table/tbody/tr['''+str(i)+''']/td['''+str(j)+''']''')\n",
    "            if m[k].text==(str)(3): #(date.today().day):\n",
    "                z+=1\n",
    "            #z=1\n",
    "            if z==1:\n",
    "                if int(m[k].text)<f+3 and int(m[k].text)<28:\n",
    "                    continue\n",
    "                f+=3\n",
    "                b=driver.find_elements(By.CLASS_NAME,\"event-data\")\n",
    "                c=driver.find_elements(By.CLASS_NAME,\"event-listing-name\")#.find_elements(By.TAG_NAME,\"a\")\n",
    "                l=[];x=1\n",
    "                for y in range(len(c)):\n",
    "                    c=driver.find_elements(By.CLASS_NAME,\"event-listing-name\")\n",
    "                    c[y].find_element(By.TAG_NAME,\"a\").click() \n",
    "                    sleep(1)\n",
    "                    a=driver.find_elements(By.CLASS_NAME,\"content\")\n",
    "                    for w in a:\n",
    "                        s+=w.text+\"<br>\"\n",
    "                    ss=s\n",
    "                    driver.back()\n",
    "                    sleep(1)\n",
    "                m=driver.find_elements(By.XPATH,'''//*[@id=\"calendar_control\"]/table/tbody/tr['''+str(i)+''']/td['''+str(j)+''']''')\n",
    "                m[k].click()\n",
    "                m=driver.find_elements(By.XPATH,'''//*[@id=\"calendar_control\"]/table/tbody/tr['''+str(i)+''']/td['''+str(j)+''']''')\n",
    "               # if int(m[k].text)>=30:\n",
    "                    #f=1;\n",
    "                    #print(\"abcd\")\n",
    "                    #d=driver.find_element(By.XPATH,'''//*[@id=\"calendar_control\"]/table/tbody/tr[1]/td[3]/a''')\n",
    "                    #d.click()\n",
    "                    #break\n",
    "    print(i)\n",
    "print(s)  \n",
    "#driver.close()\n",
    "#driver.quit()"
   ]
  },
  {
   "cell_type": "code",
   "execution_count": null,
   "id": "d6554714",
   "metadata": {},
   "outputs": [],
   "source": []
  },
  {
   "cell_type": "code",
   "execution_count": null,
   "id": "edcc1d42",
   "metadata": {},
   "outputs": [],
   "source": []
  },
  {
   "cell_type": "code",
   "execution_count": null,
   "id": "0e96065a",
   "metadata": {},
   "outputs": [],
   "source": []
  },
  {
   "cell_type": "code",
   "execution_count": null,
   "id": "221a792e",
   "metadata": {},
   "outputs": [],
   "source": []
  },
  {
   "cell_type": "code",
   "execution_count": null,
   "id": "ddeece49",
   "metadata": {},
   "outputs": [],
   "source": []
  },
  {
   "cell_type": "code",
   "execution_count": null,
   "id": "bf6de6d0",
   "metadata": {},
   "outputs": [],
   "source": []
  },
  {
   "cell_type": "code",
   "execution_count": null,
   "id": "d0629080",
   "metadata": {},
   "outputs": [],
   "source": []
  },
  {
   "cell_type": "code",
   "execution_count": null,
   "id": "acb5f580",
   "metadata": {},
   "outputs": [],
   "source": []
  },
  {
   "cell_type": "code",
   "execution_count": null,
   "id": "103a70e9",
   "metadata": {},
   "outputs": [],
   "source": []
  },
  {
   "cell_type": "code",
   "execution_count": null,
   "id": "56ea2239",
   "metadata": {},
   "outputs": [],
   "source": []
  },
  {
   "cell_type": "code",
   "execution_count": null,
   "id": "2dcc6270",
   "metadata": {},
   "outputs": [],
   "source": []
  },
  {
   "cell_type": "code",
   "execution_count": null,
   "id": "47f0755a",
   "metadata": {},
   "outputs": [],
   "source": []
  },
  {
   "cell_type": "code",
   "execution_count": null,
   "id": "1f3d16c7",
   "metadata": {},
   "outputs": [],
   "source": []
  },
  {
   "cell_type": "code",
   "execution_count": null,
   "id": "ac97a9c9",
   "metadata": {},
   "outputs": [],
   "source": []
  },
  {
   "cell_type": "code",
   "execution_count": null,
   "id": "96041ff5",
   "metadata": {},
   "outputs": [],
   "source": []
  },
  {
   "cell_type": "code",
   "execution_count": null,
   "id": "eaf1c219",
   "metadata": {},
   "outputs": [],
   "source": []
  }
 ],
 "metadata": {
  "kernelspec": {
   "display_name": "Python 3 (ipykernel)",
   "language": "python",
   "name": "python3"
  },
  "language_info": {
   "codemirror_mode": {
    "name": "ipython",
    "version": 3
   },
   "file_extension": ".py",
   "mimetype": "text/x-python",
   "name": "python",
   "nbconvert_exporter": "python",
   "pygments_lexer": "ipython3",
   "version": "3.9.7"
  }
 },
 "nbformat": 4,
 "nbformat_minor": 5
}
