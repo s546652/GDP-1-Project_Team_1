{
 "cells": [
  {
   "cell_type": "code",
   "execution_count": null,
   "id": "faa51a9c",
   "metadata": {},
   "outputs": [],
   "source": [
    "from selenium import webdriver\n",
    "from time import sleep\n",
    "from selenium.webdriver.chrome.service import Service\n",
    "from selenium.webdriver.support.ui import WebDriverWait\n",
    "from selenium.webdriver.support import expected_conditions as EC\n",
    "from selenium.webdriver.support.select import Select\n",
    "from selenium.webdriver.common.action_chains import ActionChains\n",
    "from bs4 import BeautifulSoup\n",
    "import codecs\n",
    "import re\n",
    "from webdriver_manager.chrome import ChromeDriverManager\n",
    "from selenium.webdriver.common.by import By\n",
    "from selenium.webdriver.support import expected_conditions as EC\n",
    "from datetime import date\n",
    "import firebase_admin\n",
    "from firebase_admin import credentials, firestore"
   ]
  },
  {
   "cell_type": "code",
   "execution_count": null,
   "id": "bc09bffe",
   "metadata": {},
   "outputs": [],
   "source": [
    "driver = webdriver.Chrome(executable_path=\"/Users/s546761/Documents/chromedriver\")\n",
    "driver.get(\"http://calendar.nwmissouri.edu\")\n",
    "sleep(2)\n",
    "z=0;p=1 #date.today().day\n",
    "f=p;s=\"\"\n",
    "d=driver.find_element(By.XPATH,'''//*[@id=\"calendar_control\"]/table/tbody/tr[1]/td[3]/a''')"
   ]
  },
  {
   "cell_type": "code",
   "execution_count": null,
   "id": "67345e29",
   "metadata": {},
   "outputs": [],
   "source": [
    "for i in range(3,9):\n",
    "    for j in range(1,8):\n",
    "        m=driver.find_elements(By.XPATH,'''//*[@id=\"calendar_control\"]/table/tbody/tr['''+str(i)+''']/td['''+str(j)+''']''')\n",
    "        for k in range(len(m)):\n",
    "            m=driver.find_elements(By.XPATH,'''//*[@id=\"calendar_control\"]/table/tbody/tr['''+str(i)+''']/td['''+str(j)+''']''')\n",
    "            if m[k].text==(str)(3): #(date.today().day):\n",
    "                z+=1\n",
    "            #z=1\n",
    "            if z==1:\n",
    "                if int(m[k].text)<f+3 and int(m[k].text)<28:\n",
    "                    continue\n",
    "                f+=3\n",
    "                b=driver.find_elements(By.CLASS_NAME,\"event-data\")\n",
    "                c=driver.find_elements(By.CLASS_NAME,\"event-listing-name\")#.find_elements(By.TAG_NAME,\"a\")\n",
    "                l=[];x=1\n",
    "                for y in range(len(c)):\n",
    "                    c=driver.find_elements(By.CLASS_NAME,\"event-listing-name\")\n",
    "                    c[y].find_element(By.TAG_NAME,\"a\").click() \n",
    "                    sleep(1)\n",
    "                    a=driver.find_elements(By.CLASS_NAME,\"content\")\n",
    "                    for w in a:\n",
    "                        s+=w.text+\"<br>\"\n",
    "                    ss=s\n",
    "                    driver.back()\n",
    "                    sleep(1)\n",
    "                m=driver.find_elements(By.XPATH,'''//*[@id=\"calendar_control\"]/table/tbody/tr['''+str(i)+''']/td['''+str(j)+''']''')\n",
    "                m[k].click()\n",
    "                m=driver.find_elements(By.XPATH,'''//*[@id=\"calendar_control\"]/table/tbody/tr['''+str(i)+''']/td['''+str(j)+''']''')\n",
    "               # if int(m[k].text)>=30:\n",
    "                    #f=1;\n",
    "                    #print(\"abcd\")\n",
    "                    #d=driver.find_element(By.XPATH,'''//*[@id=\"calendar_control\"]/table/tbody/tr[1]/td[3]/a''')\n",
    "                    #d.click()\n",
    "                    #break\n",
    "    print(i)\n",
    "print(s)  \n",
    "#driver.close()\n",
    "#driver.quit()"
   ]
  },
  {
   "cell_type": "code",
   "execution_count": null,
   "id": "261a9c0a",
   "metadata": {},
   "outputs": [],
   "source": [
    "s1+=s\n",
    "print(s1)"
   ]
  },
  {
   "cell_type": "code",
   "execution_count": null,
   "id": "55e94411",
   "metadata": {},
   "outputs": [],
   "source": [
    "s=s1"
   ]
  },
  {
   "cell_type": "code",
   "execution_count": null,
   "id": "5dbd4410",
   "metadata": {},
   "outputs": [],
   "source": [
    "s=s.replace(\"<br>\",\"\\n\")"
   ]
  },
  {
   "cell_type": "code",
   "execution_count": null,
   "id": "498706ed",
   "metadata": {},
   "outputs": [],
   "source": [
    "l=s.split(\"\\n\")"
   ]
  },
  {
   "cell_type": "code",
   "execution_count": null,
   "id": "5f5d2480",
   "metadata": {},
   "outputs": [],
   "source": [
    "while(\"\" in l):\n",
    "    l.remove(\"\")"
   ]
  },
  {
   "cell_type": "code",
   "execution_count": null,
   "id": "801df4d0",
   "metadata": {},
   "outputs": [],
   "source": [
    "d={\"name\":[],\"date\":[],\"description\":[]}\n",
    "a=\"\";c=0\n",
    "for i in range(len(l)-1):\n",
    "    i=c\n",
    "    if i>=len(l):\n",
    "        break\n",
    "    a=l[i]\n",
    "    for j in range(i+1,len(l)-1):\n",
    "        if \"2023\" not in l[j]:\n",
    "            a+=l[j]\n",
    "        else:\n",
    "            d[\"name\"].append(a)\n",
    "            i=j\n",
    "            break\n",
    "    a=\"\"\n",
    "    if \"2023\" in l[i]:\n",
    "        a+=l[i]\n",
    "    i+=1\n",
    "    if \"2023\" in l[i]:\n",
    "        a+=l[i]\n",
    "    d[\"date\"].append(a)\n",
    "    a=\"\"\n",
    "    i+=1\n",
    "    for j in range(i,len(l)):\n",
    "        if \"Calendars:\"  not in l[j]:\n",
    "            a+=l[j]+\"\\n\"\n",
    "        else: \n",
    "            a+=l[j]\n",
    "            i=j\n",
    "            break\n",
    "    d[\"description\"].append(a)\n",
    "    c=i+1"
   ]
  },
  {
   "cell_type": "code",
   "execution_count": null,
   "id": "29725b59",
   "metadata": {},
   "outputs": [],
   "source": [
    "c=0\n",
    "for i in range(len(d[\"name\"])-1):\n",
    "    for j in range(i+1,len(d[\"name\"])):\n",
    "        if i<len(d[\"name\"]) and j<len(d[\"name\"])-1:\n",
    "            if d[\"name\"][i]==d[\"name\"][j] and d[\"date\"][i]==d[\"date\"][j] and d[\"description\"][i]==d[\"description\"][j]:\n",
    "                d[\"name\"].remove(d[\"name\"][j])\n",
    "                d[\"date\"].remove(d[\"date\"][j])\n",
    "                d[\"description\"].remove(d[\"description\"][j])"
   ]
  },
  {
   "cell_type": "code",
   "execution_count": null,
   "id": "7075c090",
   "metadata": {},
   "outputs": [],
   "source": [
    "import firebase_admin\n",
    "from firebase_admin import credentials, firestore\n",
    "\n",
    "cred = credentials.Certificate(\"C:\\serviceAccount.json\")\n",
    "firebase_admin.initialize_app(cred)"
   ]
  },
  {
   "cell_type": "code",
   "execution_count": null,
   "id": "1437929a",
   "metadata": {},
   "outputs": [],
   "source": [
    "db = firestore.client()"
   ]
  },
  {
   "cell_type": "code",
   "execution_count": null,
   "id": "49d9120b",
   "metadata": {},
   "outputs": [],
   "source": [
    "data = db.collection(u'data').document(u'events')\n",
    "data.update({u'name': d[\"name\"], u'date':d[\"date\"], u'description':d[\"description\"]})"
   ]
  },
  {
   "cell_type": "code",
   "execution_count": null,
   "id": "4d9e5399",
   "metadata": {},
   "outputs": [],
   "source": []
  },
  {
   "cell_type": "code",
   "execution_count": null,
   "id": "5673f7eb",
   "metadata": {},
   "outputs": [],
   "source": []
  },
  {
   "cell_type": "code",
   "execution_count": null,
   "id": "436795ae",
   "metadata": {},
   "outputs": [],
   "source": []
  },
  {
   "cell_type": "code",
   "execution_count": null,
   "id": "e7188574",
   "metadata": {},
   "outputs": [],
   "source": []
  },
  {
   "cell_type": "code",
   "execution_count": null,
   "id": "d5b52858",
   "metadata": {},
   "outputs": [],
   "source": []
  },
  {
   "cell_type": "code",
   "execution_count": null,
   "id": "0b34ea92",
   "metadata": {},
   "outputs": [],
   "source": []
  }
 ],
 "metadata": {
  "kernelspec": {
   "display_name": "Python 3 (ipykernel)",
   "language": "python",
   "name": "python3"
  },
  "language_info": {
   "codemirror_mode": {
    "name": "ipython",
    "version": 3
   },
   "file_extension": ".py",
   "mimetype": "text/x-python",
   "name": "python",
   "nbconvert_exporter": "python",
   "pygments_lexer": "ipython3",
   "version": "3.9.7"
  }
 },
 "nbformat": 4,
 "nbformat_minor": 5
}
